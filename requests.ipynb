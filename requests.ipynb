{
 "cells": [
  {
   "cell_type": "markdown",
   "metadata": {},
   "source": [
    "# HTTP Requests\n",
    "There are many types of HTTP requests. The four most commonly used types of HTTP requests are GET, POST, PUT, and DELETE."
   ]
  },
  {
   "cell_type": "markdown",
   "metadata": {},
   "source": [
    "## Get Requests\n",
    "The first type of requests we’re going to tackle are GET requests using fetch(). The `fetch()` function:\n",
    "\n",
    "- Creates a request object that contains relevant information that an API needs.\n",
    "- Sends that request object to the API endpoint provided.\n",
    "- Returns a promise that ultimately resolves to a response object, which contains the status of the promise with information the API sent back.\n",
    "\n",
    "The basic structure of a get request is shown via the examples below with the [Datamuse API](https://www.datamuse.com/api/), each with a different query use-case. Additionally, another example for [the movie database](https://www.themoviedb.org/) api is shown."
   ]
  },
  {
   "cell_type": "markdown",
   "metadata": {},
   "source": [
    "The first api use-case is used to get back an array of words that sound like the word we typed into the input field. "
   ]
  },
  {
   "cell_type": "code",
   "execution_count": 1,
   "metadata": {},
   "outputs": [
    {
     "name": "stdout",
     "output_type": "stream",
     "text": [
      "[ { word: 'hippopotamus', score: 100, numSyllables: 5 },\n",
      "  { word: 'hippopotami', score: 85, numSyllables: 5 },\n",
      "  { word: 'hippopotamuses', score: 80, numSyllables: 6 },\n",
      "  { word: 'hippopotame', score: 80, numSyllables: 4 },\n",
      "  { word: 'hypodermis', score: 60, numSyllables: 4 },\n",
      "  { word: 'habitance', score: 55, numSyllables: 3 },\n",
      "  { word: 'saprostomous', score: 55, numSyllables: 4 },\n",
      "  { word: 'synonymous', score: 40, numSyllables: 4 },\n",
      "  { word: 'sopapilla', score: 38, numSyllables: 4 },\n",
      "  { word: 'sea bottom', score: 38, numSyllables: 3 } ]\n"
     ]
    }
   ],
   "source": [
    "var fetch = require('node-fetch');\n",
    "\n",
    "// Information to reach API\n",
    "var url = \"https://api.datamuse.com/words?\" // api url\n",
    "var useCase = \"sl=\" // words that sound like <query> \n",
    "\n",
    "// Asynchronous function\n",
    "var getSuggestions = (url, useCase, query) => {\n",
    "  var endpoint = url + useCase + query;\n",
    "\n",
    "  fetch(endpoint)\n",
    "    .then((response) => { // sends request\n",
    "\n",
    "      if (response.ok) {\n",
    "          return response.json() // returns promise\n",
    "      }\n",
    "\n",
    "      throw new Error('Request failed!') // handles errors\n",
    "\n",
    "    }, (networkError) => {\n",
    "\n",
    "      console.log(networkError.message) // log error if thrown\n",
    "\n",
    "    })\n",
    "  \n",
    "    .then(jsonResponse => { // handles success\n",
    "      console.log(jsonResponse) // log json object\n",
    "    })\n",
    "}\n",
    "\n",
    "getSuggestions(url, useCase, 'hipopotamus')"
   ]
  },
  {
   "cell_type": "markdown",
   "metadata": {},
   "source": [
    "The second use-case finds words that are likely within the context of the adjective used for the query."
   ]
  },
  {
   "cell_type": "code",
   "execution_count": 2,
   "metadata": {},
   "outputs": [
    {
     "data": {
      "text/plain": [
       "Promise { <pending> }"
      ]
     },
     "execution_count": 2,
     "metadata": {},
     "output_type": "execute_result"
    },
    {
     "name": "stdout",
     "output_type": "stream",
     "text": [
      "[ { word: 'jury', score: 1001 },\n",
      "  { word: 'scale', score: 1000 },\n",
      "  { word: 'total', score: 999 },\n",
      "  { word: 'piano', score: 998 },\n",
      "  { word: 'style', score: 997 },\n",
      "  { word: 'design', score: 996 },\n",
      "  { word: 'master', score: 995 },\n",
      "  { word: 'strategy', score: 994 },\n",
      "  { word: 'duke', score: 993 },\n",
      "  { word: 'manner', score: 992 } ]\n"
     ]
    }
   ],
   "source": [
    "var fetch = require('node-fetch');\n",
    "\n",
    "// Information to reach API\n",
    "var url = \"https://api.datamuse.com/words?\" // api url\n",
    "var useCase = 'rel_jja=' // nouns that are often described by the <query adjective>\n",
    "\n",
    "// Asynchronous function\n",
    "var getSuggestions = async (url, useCase, query) => {\n",
    "  var endpoint = url + useCase + query;\n",
    "  try {\n",
    "    var response = await fetch(\n",
    "      endpoint,\n",
    "    )\n",
    "    if (response.ok) {\n",
    "      var jsonResponse = await response.json()\n",
    "      var cap = Math.min(jsonResponse.length, 10) // caps responses at 10\n",
    "      var results = jsonResponse.slice(0, cap)\n",
    "      console.log(results)\n",
    "    }\n",
    "\n",
    "  } catch(error) {\n",
    "    console.log(error)\n",
    "  }\n",
    "}\n",
    "  \n",
    "getSuggestions(url, useCase, 'grand')"
   ]
  },
  {
   "cell_type": "markdown",
   "metadata": {},
   "source": [
    "The below example demonstrates a GET request to [the movie database](https://www.themoviedb.org/) api."
   ]
  },
  {
   "cell_type": "code",
   "execution_count": 3,
   "metadata": {},
   "outputs": [
    {
     "data": {
      "text/plain": [
       "Promise { <pending> }"
      ]
     },
     "execution_count": 3,
     "metadata": {},
     "output_type": "execute_result"
    },
    {
     "name": "stdout",
     "output_type": "stream",
     "text": [
      "{ genres: \n",
      "   [ { id: 28, name: 'Action' },\n",
      "     { id: 12, name: 'Adventure' },\n",
      "     { id: 16, name: 'Animation' },\n",
      "     { id: 35, name: 'Comedy' },\n",
      "     { id: 80, name: 'Crime' },\n",
      "     { id: 99, name: 'Documentary' },\n",
      "     { id: 18, name: 'Drama' },\n",
      "     { id: 10751, name: 'Family' },\n",
      "     { id: 14, name: 'Fantasy' },\n",
      "     { id: 36, name: 'History' },\n",
      "     { id: 27, name: 'Horror' },\n",
      "     { id: 10402, name: 'Music' },\n",
      "     { id: 9648, name: 'Mystery' },\n",
      "     { id: 10749, name: 'Romance' },\n",
      "     { id: 878, name: 'Science Fiction' },\n",
      "     { id: 10770, name: 'TV Movie' },\n",
      "     { id: 53, name: 'Thriller' },\n",
      "     { id: 10752, name: 'War' },\n",
      "     { id: 37, name: 'Western' } ] }\n"
     ]
    }
   ],
   "source": [
    "var tmdbBaseUrl = 'https://api.themoviedb.org/3'\n",
    "var fetch = require('node-fetch');\n",
    "\n",
    "try {\n",
    "  var {tmdb_rat} = require('./keys.js') // import random access token\n",
    "} catch (err) {\n",
    "  console.error('Error reading file:', err.message); // log error if any\n",
    "}\n",
    "\n",
    "var getGenres = async () => {\n",
    "    var genreRequestEndpoint = '/genre/movie/list?language=en'\n",
    "    var urlToFetch = tmdbBaseUrl + genreRequestEndpoint\n",
    "    var options = {\n",
    "      method: 'GET',\n",
    "      headers: {\n",
    "        accept: 'application/json',\n",
    "        Authorization: `Bearer ${tmdb_rat}`\n",
    "      }\n",
    "    }  \n",
    "    try {\n",
    "      var response = await fetch(urlToFetch, options)\n",
    "  \n",
    "      if (response.ok) {\n",
    "        var jsonResponse = await response.json()\n",
    "        console.log(jsonResponse)\n",
    "      }\n",
    "  \n",
    "    } catch(error) {\n",
    "      console.log(error)\n",
    "    }\n",
    "  }\n",
    "\n",
    "getGenres()"
   ]
  },
  {
   "cell_type": "markdown",
   "metadata": {},
   "source": [
    "## POST Requests\n",
    "The `fetch()` call takes two arguments: an endpoint and an object that contains information needed for the request. This object includes a method. In this case, we'll pass a value of 'POST'. For the request body, you'll need to pass a JSON string, so the JSON.stringify function will come in handy. This includes the data sent to the API.\n",
    "\n",
    "A successful POST request will return a response body, which will vary depending on how the API is set up. The rest of the request is identical to the GET request. A .then() method is chained to the fetch() function to check and return the response as well as throw an exception when a network error is encountered. A second .then() method is added on so that we can use the response however we may choose.\n",
    "\n",
    "The example below demonstrates a POST request to the rebrandly api. It offers developers a way to create a short but superpowered url that enables link analytics. To follow along with the example below, you'll need to make an account on [rebrandly](https://www.rebrandly.com/) and create an api key."
   ]
  },
  {
   "cell_type": "code",
   "execution_count": null,
   "metadata": {},
   "outputs": [],
   "source": [
    "var fetch = require('node-fetch');\n",
    "\n",
    "// Asynchronous function\n",
    "var shortenUrl = (urlToShorten, apiKey) => {\n",
    "    var data = JSON.stringify({destination: urlToShorten}) \n",
    "      \n",
    "    fetch('https://api.rebrandly.com/v1/links', {\n",
    "        method: 'POST',\n",
    "        headers: {\n",
    "            'Content-type': 'application/json',\n",
    "            'apikey': apiKey\n",
    "        },\n",
    "        body: data\n",
    "    })\n",
    "   .then(response => {\n",
    "        if (response.ok) {\n",
    "          console.log(response.ok)\n",
    "          return response.json() // returns promise for json data\n",
    "        }\n",
    "    \n",
    "        throw new Error('Request failed!') // log if no response\n",
    "    \n",
    "      }, networkError => {\n",
    "        console.log(networkError.message) // log network error if any\n",
    "      })\n",
    "    .then(jsonResponse => {\n",
    "      console.log(jsonResponse) // log shortend url\n",
    "    })\n",
    "  }\n",
    "\n",
    "try {\n",
    "  var {rebrandly} = require('./keys.js') // import api key\n",
    "} catch (err) {\n",
    "  console.error('Error reading file:', err.message); // log error if any\n",
    "}\n",
    "\n",
    "var urlToShorten = 'https://github.com/jgome284';\n",
    "\n",
    "shortenUrl(urlToShorten, rebrandly) // returns shortend url"
   ]
  }
 ],
 "metadata": {
  "kernelspec": {
   "display_name": "JavaScript (Node.js)",
   "language": "javascript",
   "name": "javascript"
  },
  "language_info": {
   "file_extension": ".js",
   "mimetype": "application/javascript",
   "name": "javascript",
   "version": "8.10.0"
  }
 },
 "nbformat": 4,
 "nbformat_minor": 2
}
